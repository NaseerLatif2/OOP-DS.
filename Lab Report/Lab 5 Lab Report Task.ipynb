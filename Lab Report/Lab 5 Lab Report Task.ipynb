{
 "cells": [
  {
   "cell_type": "markdown",
   "id": "e4fdbcd6-a49a-4938-ba7a-af40bb306acf",
   "metadata": {},
   "source": [
    "<p style=\"color:black; font-size:37px; font-family: Elephant; text-align:center;\">Lab 5: \"Classes 2 _repr_and _str_\""
   ]
  },
  {
   "cell_type": "markdown",
   "id": "46f77f04-d46c-4724-881f-895be89d69a7",
   "metadata": {},
   "source": [
    "<p style=\"color:black; font-size:27px; font-family: Elephant; text-align:center;\">Lab Title: EE-271 “OOP & Data Structures Lab”"
   ]
  },
  {
   "cell_type": "markdown",
   "id": "2bbc5740-93ea-429e-8ac3-ab6ae6080afa",
   "metadata": {},
   "source": [
    "<p style=\"color:red; font-size:27px; font-family: Elephant; text-align:center;\">\"Lab Report Work\""
   ]
  },
  {
   "cell_type": "code",
   "execution_count": 1,
   "id": "9102186a-a68d-4e5d-843e-cda8eb89bb0d",
   "metadata": {},
   "outputs": [],
   "source": [
    "import math\n",
    "\n",
    "class Circle:\n",
    "    def __init__(self, radius: float = 1.0):\n",
    "        self._radius = radius\n",
    "        \n",
    "    @property\n",
    "    def radius(self) -> float:\n",
    "        return self._radius\n",
    "\n",
    "    @radius.setter\n",
    "    def radius(self, value: float):\n",
    "\n",
    "        if value <= 0:\n",
    "            raise ValueError(\"Radius must be positive.\")\n",
    "        self._radius = value\n",
    "\n",
    "    @property\n",
    "    def diameter(self) -> float:\n",
    "        return self._radius * 2\n",
    "\n",
    "    @property\n",
    "    def area(self) -> float:\n",
    "        return math.pi * (self._radius ** 2)\n",
    "\n",
    "    @property\n",
    "    def circumference(self) -> float:\n",
    "        return 2 * math.pi * self._radius\n",
    "\n",
    "    def volume(self, height: float) -> float:\n",
    "\n",
    "        return self.area * height\n",
    "\n",
    "    def __repr__(self) -> str:\n",
    "\n",
    "        return f\"Circle(radius={self._radius})\"\n",
    "\n",
    "    def __str__(self) -> str:\n",
    "       \n",
    "        return f\"Circle with radius: {self._radius}\""
   ]
  },
  {
   "cell_type": "code",
   "execution_count": 3,
   "id": "a8dac030-6097-4559-ba0a-e5563c50ad57",
   "metadata": {},
   "outputs": [],
   "source": [
    "inst_1 = Circle(6)\n",
    "inst_2 = Circle(4)\n"
   ]
  },
  {
   "cell_type": "code",
   "execution_count": 5,
   "id": "76394319-9d6c-43e6-88b4-d9baa729856b",
   "metadata": {},
   "outputs": [
    {
     "name": "stdout",
     "output_type": "stream",
     "text": [
      "Circle with radius: 6\n",
      "Circle with radius: 4\n"
     ]
    }
   ],
   "source": [
    "print(inst_1)\n",
    "print(inst_2)"
   ]
  },
  {
   "cell_type": "code",
   "execution_count": 7,
   "id": "11c0cde9-9c64-44ea-a681-9f9b703392e4",
   "metadata": {},
   "outputs": [
    {
     "name": "stdout",
     "output_type": "stream",
     "text": [
      "{'__module__': '__main__', '__init__': <function Circle.__init__ at 0x00000136DAD2F560>, 'radius': <property object at 0x00000136DAD94400>, 'diameter': <property object at 0x00000136DAD944A0>, 'area': <property object at 0x00000136DAD94450>, 'circumference': <property object at 0x00000136DAD942C0>, 'volume': <function Circle.volume at 0x00000136DAD2FC40>, '__repr__': <function Circle.__repr__ at 0x00000136DAD2FCE0>, '__str__': <function Circle.__str__ at 0x00000136DAD2FD80>, '__dict__': <attribute '__dict__' of 'Circle' objects>, '__weakref__': <attribute '__weakref__' of 'Circle' objects>, '__doc__': None}\n"
     ]
    }
   ],
   "source": [
    "print(Circle.__dict__)"
   ]
  },
  {
   "cell_type": "code",
   "execution_count": 9,
   "id": "34f344b0-cc64-40a1-8361-1cd4bd6e3939",
   "metadata": {},
   "outputs": [
    {
     "name": "stdout",
     "output_type": "stream",
     "text": [
      "{'__module__': '__main__', '__init__': <function Circle.__init__ at 0x00000136DAD2F560>, 'radius': <property object at 0x00000136DAD94400>, 'diameter': <property object at 0x00000136DAD944A0>, 'area': <property object at 0x00000136DAD94450>, 'circumference': <property object at 0x00000136DAD942C0>, 'volume': <function Circle.volume at 0x00000136DAD2FC40>, '__repr__': <function Circle.__repr__ at 0x00000136DAD2FCE0>, '__str__': <function Circle.__str__ at 0x00000136DAD2FD80>, '__dict__': <attribute '__dict__' of 'Circle' objects>, '__weakref__': <attribute '__weakref__' of 'Circle' objects>, '__doc__': None}\n"
     ]
    }
   ],
   "source": [
    "print(vars(Circle))\n"
   ]
  },
  {
   "cell_type": "code",
   "execution_count": 11,
   "id": "d1b8c283-6480-47bd-801f-5f9ae6a6f449",
   "metadata": {},
   "outputs": [
    {
     "name": "stdout",
     "output_type": "stream",
     "text": [
      "{'_radius': 6}\n",
      "{'_radius': 4}\n"
     ]
    }
   ],
   "source": [
    "print(inst_1.__dict__)\n",
    "print(inst_2.__dict__)"
   ]
  },
  {
   "cell_type": "code",
   "execution_count": 13,
   "id": "f78eb7ac-7ef5-4df0-92e8-0e2af701535b",
   "metadata": {},
   "outputs": [
    {
     "name": "stdout",
     "output_type": "stream",
     "text": [
      "Help on class Circle in module __main__:\n",
      "\n",
      "class Circle(builtins.object)\n",
      " |  Circle(radius: float = 1.0)\n",
      " |\n",
      " |  Methods defined here:\n",
      " |\n",
      " |  __init__(self, radius: float = 1.0)\n",
      " |      Initialize self.  See help(type(self)) for accurate signature.\n",
      " |\n",
      " |  __repr__(self) -> str\n",
      " |      Return repr(self).\n",
      " |\n",
      " |  __str__(self) -> str\n",
      " |      Return str(self).\n",
      " |\n",
      " |  volume(self, height: float) -> float\n",
      " |\n",
      " |  ----------------------------------------------------------------------\n",
      " |  Readonly properties defined here:\n",
      " |\n",
      " |  area\n",
      " |\n",
      " |  circumference\n",
      " |\n",
      " |  diameter\n",
      " |\n",
      " |  ----------------------------------------------------------------------\n",
      " |  Data descriptors defined here:\n",
      " |\n",
      " |  __dict__\n",
      " |      dictionary for instance variables\n",
      " |\n",
      " |  __weakref__\n",
      " |      list of weak references to the object\n",
      " |\n",
      " |  radius\n",
      "\n"
     ]
    }
   ],
   "source": [
    "help(Circle)"
   ]
  },
  {
   "cell_type": "code",
   "execution_count": 15,
   "id": "01c5f931-b258-450f-890b-dc9f66538901",
   "metadata": {},
   "outputs": [
    {
     "name": "stdout",
     "output_type": "stream",
     "text": [
      "None\n",
      "__init__: None\n",
      "Annotations: {'radius': <class 'float'>}\n",
      "radius: None\n",
      "Annotations: {'return': <class 'float'>}\n",
      "radius: None\n",
      "Annotations: {'value': <class 'float'>}\n",
      "diameter: None\n",
      "Annotations: {'return': <class 'float'>}\n",
      "area: None\n",
      "Annotations: {'return': <class 'float'>}\n",
      "circumference: None\n",
      "Annotations: {'return': <class 'float'>}\n",
      "volume: None\n",
      "Annotations: {'height': <class 'float'>, 'return': <class 'float'>}\n",
      "__repr__: None\n",
      "Annotations: {'return': <class 'str'>}\n",
      "__str__: None\n",
      "Annotations: {'return': <class 'str'>}\n"
     ]
    }
   ],
   "source": [
    "print(Circle.__doc__)\n",
    "for method in [Circle.__init__, Circle.radius.fget, Circle.radius.fset,\n",
    "               Circle.diameter.fget, Circle.area.fget, Circle.circumference.fget,\n",
    "               Circle.volume, Circle.__repr__, Circle.__str__]:\n",
    "    print(f\"{method.__name__}: {method.__doc__}\")\n",
    "    print(f\"Annotations: {method.__annotations__}\")"
   ]
  },
  {
   "cell_type": "code",
   "execution_count": 17,
   "id": "a3367635-5750-4432-95a3-7c79a8a4677a",
   "metadata": {},
   "outputs": [
    {
     "name": "stdout",
     "output_type": "stream",
     "text": [
      "<__main__.CircleModified object at 0x00000136DB108200>\n",
      "<__main__.CircleModified object at 0x00000136DC319460>\n"
     ]
    }
   ],
   "source": [
    "class CircleModified:\n",
    "\n",
    "    def __init__(self, radius: float = 1.0):\n",
    "\n",
    "        self._radius = radius\n",
    "\n",
    "inst_3 = CircleModified()\n",
    "print(inst_3)  \n",
    "inst_4 = CircleModified(2)\n",
    "print(inst_4) "
   ]
  },
  {
   "cell_type": "code",
   "execution_count": null,
   "id": "a62a418f-f159-40cc-97e7-d370685ad8cb",
   "metadata": {},
   "outputs": [],
   "source": []
  }
 ],
 "metadata": {
  "kernelspec": {
   "display_name": "Python 3 (ipykernel)",
   "language": "python",
   "name": "python3"
  },
  "language_info": {
   "codemirror_mode": {
    "name": "ipython",
    "version": 3
   },
   "file_extension": ".py",
   "mimetype": "text/x-python",
   "name": "python",
   "nbconvert_exporter": "python",
   "pygments_lexer": "ipython3",
   "version": "3.12.4"
  }
 },
 "nbformat": 4,
 "nbformat_minor": 5
}
