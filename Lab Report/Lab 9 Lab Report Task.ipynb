{
 "cells": [
  {
   "cell_type": "markdown",
   "id": "bc0bf8b9-0720-4633-94b3-06c7fbee91e9",
   "metadata": {},
   "source": [
    "<p style=\"color:red; font-size:37px; font-family: Algerian ; text-align:center;\">Lab Title: EE-271 “OOP & Data Structures Lab"
   ]
  },
  {
   "cell_type": "markdown",
   "id": "87a7a2c4-372b-48f2-a6e8-98f03e451467",
   "metadata": {},
   "source": [
    "<p style=\"color:blue ; font-size:32px; font-family: Algerian ; text-align:center;\">LAB 9"
   ]
  },
  {
   "cell_type": "markdown",
   "id": "9178898e-e23c-41af-963f-5d1c87e5f503",
   "metadata": {},
   "source": [
    "<p style=\"color:green ; font-size:27px; font-family: Algerian ; text-align:center;\">Lab Report task:"
   ]
  },
  {
   "cell_type": "code",
   "execution_count": 6,
   "id": "4528fd7f-8ff2-4865-b1d6-462ac80842f2",
   "metadata": {},
   "outputs": [],
   "source": [
    "# Base Employee Class\n",
    "class Employee:\n",
    "    def __init__(self, employee_id, name):\n",
    "        self.id = employee_id\n",
    "        self.name = name\n",
    "        \n",
    "    def calculate_payroll(self):\n",
    "        raise NotImplementedError(\"This method should be overridden in the subclass\")\n",
    "\n",
    "# SalaryEmployee Class (Administrative Workers)\n",
    "class SalaryEmployee(Employee):\n",
    "    def __init__(self, employee_id, name, weekly_salary):\n",
    "        # Initialize the base class with id and name\n",
    "        super().__init__(employee_id, name)\n",
    "        self.weekly_salary = weekly_salary\n",
    "    \n",
    "    def calculate_payroll(self):\n",
    "        return self.weekly_salary\n",
    "\n",
    "# HourlyEmployee Class (Manufacturing Workers)\n",
    "class HourlyEmployee(Employee):\n",
    "    def __init__(self, employee_id, name, hours_worked, hourly_rate):\n",
    "        # Initialize the base class with id and name\n",
    "        super().__init__(employee_id, name)\n",
    "        self.hours_worked = hours_worked\n",
    "        self.hourly_rate = hourly_rate\n",
    "    \n",
    "    def calculate_payroll(self):\n",
    "        return self.hours_worked * self.hourly_rate\n",
    "\n",
    "# CommissionEmployee Class (Sales Associates)\n",
    "class CommissionEmployee(SalaryEmployee):\n",
    "    def __init__(self, employee_id, name, weekly_salary, commission_rate, sales):\n",
    "        # Initialize the base class (SalaryEmployee) with id, name, and salary\n",
    "        super().__init__(employee_id, name, weekly_salary)\n",
    "        self.commission_rate = commission_rate\n",
    "        self.sales = sales\n",
    "    \n",
    "    def calculate_payroll(self):\n",
    "        commission = self.sales * self.commission_rate\n",
    "        return self.weekly_salary + commission\n",
    "\n",
    "# PayrollSystem Class\n",
    "class PayrollSystem:\n",
    "    def calculate_payroll(self, employees):\n",
    "        for employee in employees:\n",
    "            payroll = employee.calculate_payroll()\n",
    "            print(f\"Employee ID: {employee.id}, Name: {employee.name}, Payroll: ${payroll:.2f}\")\n",
    "            print(\"=\" * 40)"
   ]
  },
  {
   "cell_type": "code",
   "execution_count": 8,
   "id": "0f645698-328b-4efb-bc24-b8eb3657dcc5",
   "metadata": {},
   "outputs": [
    {
     "name": "stdout",
     "output_type": "stream",
     "text": [
      "Employee ID: 1, Name: naseer, Payroll: $18000.00\n",
      "========================================\n",
      "Employee ID: 2, Name: ishaq, Payroll: $3200.00\n",
      "========================================\n",
      "Employee ID: 3, Name: salman, Payroll: $8140.00\n",
      "========================================\n"
     ]
    }
   ],
   "source": [
    "# Create instances of different employees\n",
    "salary_employee = SalaryEmployee(1, \"naseer\", 18000)  \n",
    "hourly_employee = HourlyEmployee(2, \"ishaq\", 40, 80)  \n",
    "commission_employee = CommissionEmployee(3, \"salman\", 8000, 0.04, 3500)  \n",
    "\n",
    "# Create a list of employees\n",
    "employees = [salary_employee, hourly_employee, commission_employee]\n",
    "\n",
    "# Create an instance of PayrollSystem\n",
    "payroll_system = PayrollSystem()\n",
    "\n",
    "# Process payroll\n",
    "payroll_system.calculate_payroll(employees)\n"
   ]
  },
  {
   "cell_type": "code",
   "execution_count": 10,
   "id": "675d0e0f-6cc1-4dac-aaa4-db5ca144b9bf",
   "metadata": {},
   "outputs": [],
   "source": [
    "# Manager Class (inherits from SalaryEmployee)\n",
    "class Manager(SalaryEmployee):\n",
    "    def __init__(self, emp_id, name, weekly_salary):\n",
    "        super().__init__(emp_id, name, weekly_salary)\n",
    "    \n",
    "    def work(self, hours):\n",
    "        print(f\"Manager {self.name} worked for {hours} hours, delegating tasks and overseeing operations.\")\n",
    "\n",
    "# Secretary Class (inherits from SalaryEmployee)\n",
    "class Secretary(SalaryEmployee):\n",
    "    def __init__(self, emp_id, name, weekly_salary):\n",
    "        super().__init__(emp_id, name, weekly_salary)\n",
    "    \n",
    "    def work(self, hours):\n",
    "        print(f\"Secretary {self.name} worked for {hours} hours, handling paperwork and administration.\")\n",
    "\n",
    "# SalesPerson Class (inherits from SalaryEmployee)\n",
    "class SalesPerson(SalaryEmployee):\n",
    "    def __init__(self, emp_id, name, weekly_salary, commission_rate):\n",
    "        super().__init__(emp_id, name, weekly_salary)\n",
    "        self.commission_rate = commission_rate  # Commission rate as a percentage\n",
    "        self.sales_made = 0  # Track the sales made by the employee\n",
    "\n",
    "    def work(self, hours, sales_made):\n",
    "        self.sales_made += sales_made\n",
    "        commission = sales_made * self.commission_rate\n",
    "        total_pay = self.weekly_salary + commission\n",
    "        print(f\"SalesPerson {self.name} worked for {hours} hours and made ${sales_made} in sales. \"\n",
    "              f\"Commission earned: ${commission}. Total Pay: ${total_pay:.2f}\")\n",
    "\n",
    "# HourlyEmployee Class (inherits from Employee)\n",
    "class HourlyEmployee(Employee):\n",
    "    def __init__(self, emp_id, name, hourly_rate, hours_worked):\n",
    "        super().__init__(emp_id, name)\n",
    "        self.hourly_rate = hourly_rate\n",
    "        self.hours_worked = hours_worked\n",
    "    \n",
    "    def calculate_payroll(self):\n",
    "        return self.hourly_rate * self.hours_worked\n",
    "    \n",
    "    def work(self, hours):\n",
    "        self.hours_worked += hours\n",
    "        total_pay = self.calculate_payroll()\n",
    "        print(f\"Factory Worker {self.name} worked for {hours} hours. Total Pay: ${total_pay:.2f}\")\n",
    "\n",
    "# ProductivitySystem Class\n",
    "class ProductivitySystem:\n",
    "    def calculate_productivity(self, employees):\n",
    "        for employee in employees:\n",
    "            print(f\"Employee: {employee.name}\")\n",
    "            if isinstance(employee, SalesPerson):\n",
    "                employee.work(40, 2000)  \n",
    "            else:\n",
    "                employee.work(40)  \n",
    "            print(\"=\" * 40)"
   ]
  },
  {
   "cell_type": "code",
   "execution_count": 14,
   "id": "ebc673fe-b50f-43ed-81f6-71f165372ccf",
   "metadata": {},
   "outputs": [
    {
     "name": "stdout",
     "output_type": "stream",
     "text": [
      "Employee: Naseer\n",
      "Manager Naseer worked for 40 hours, delegating tasks and overseeing operations.\n",
      "========================================\n",
      "Employee: ishaq\n",
      "Secretary ishaq worked for 40 hours, handling paperwork and administration.\n",
      "========================================\n",
      "Employee: salman\n",
      "SalesPerson salman worked for 40 hours and made $2000 in sales. Commission earned: $200.0. Total Pay: $5200.00\n",
      "========================================\n",
      "Employee: khan\n",
      "Factory Worker khan worked for 40 hours. Total Pay: $1650.00\n",
      "========================================\n"
     ]
    }
   ],
   "source": [
    "# Create instances of different types of employees\n",
    "manager1 = Manager(1, \"Naseer\", 15000)\n",
    "secretary1 = Secretary(2, \"ishaq\", 3000)\n",
    "salesperson1 = SalesPerson(3, \"salman\", 5000, 0.1)  \n",
    "factoryworker1 = HourlyEmployee(4, \"khan\", 15, 70)  \n",
    "\n",
    "# Create a list of employees\n",
    "employees = [\n",
    "    manager1, secretary1, salesperson1, factoryworker1\n",
    "]\n",
    "\n",
    "# Create a ProductivitySystem instance and calculate productivity for all employees\n",
    "productivity_system = ProductivitySystem()\n",
    "productivity_system.calculate_productivity(employees)"
   ]
  },
  {
   "cell_type": "code",
   "execution_count": 16,
   "id": "f54e79fe-a76a-43c2-867e-17bc9c66e1a0",
   "metadata": {},
   "outputs": [],
   "source": [
    "class TemporarySecretary(Secretary, HourlyEmployee):\n",
    "    def __init__(self, id, name, hours_worked, hourly_rate):\n",
    "        HourlyEmployee.__init__(self, id, name, hours_worked, hourly_rate)\n",
    "    def calculate_payroll(self):\t\n",
    "        return HourlyEmployee.calculate_payroll(self)\n"
   ]
  },
  {
   "cell_type": "code",
   "execution_count": 18,
   "id": "886a8223-9275-4d1f-9d4f-dfbf6fba6b94",
   "metadata": {},
   "outputs": [],
   "source": [
    "manager1 = Manager(1, \"naseer\", 1000)\n",
    "secretary1 = Secretary(2, \"azaz\", 1200)\n",
    "salesperson1 = SalesPerson(3, \"ismail\", 6000, 0.3)\n",
    "factoryworker1 = HourlyEmployee(4, \"waseem\", 20, 15)\n",
    "temporarysecretary = TemporarySecretary(5, \"mansoor\",990, 20)"
   ]
  },
  {
   "cell_type": "code",
   "execution_count": 20,
   "id": "97deb738-fad2-4df7-86ee-00078668c018",
   "metadata": {},
   "outputs": [],
   "source": [
    "company_employees = [manager1, secretary1, salesperson1, factoryworker1, temporarysecretary]"
   ]
  },
  {
   "cell_type": "code",
   "execution_count": 22,
   "id": "9993b332-83b8-4bc0-914e-1d1f6662797c",
   "metadata": {},
   "outputs": [
    {
     "name": "stdout",
     "output_type": "stream",
     "text": [
      "Employee: naseer\n",
      "Manager naseer worked for 40 hours, delegating tasks and overseeing operations.\n",
      "========================================\n",
      "Employee: azaz\n",
      "Secretary azaz worked for 40 hours, handling paperwork and administration.\n",
      "========================================\n",
      "Employee: ismail\n",
      "SalesPerson ismail worked for 40 hours and made $2000 in sales. Commission earned: $600.0. Total Pay: $6600.00\n",
      "========================================\n",
      "Employee: waseem\n",
      "Factory Worker waseem worked for 40 hours. Total Pay: $1100.00\n",
      "========================================\n",
      "Employee: mansoor\n",
      "Secretary mansoor worked for 40 hours, handling paperwork and administration.\n",
      "========================================\n"
     ]
    }
   ],
   "source": [
    "productivity_system = ProductivitySystem()\n",
    "productivity_system.calculate_productivity(company_employees)"
   ]
  },
  {
   "cell_type": "code",
   "execution_count": null,
   "id": "b827ba3b-614d-4bc0-84d9-f6824f9d1b75",
   "metadata": {},
   "outputs": [],
   "source": []
  }
 ],
 "metadata": {
  "kernelspec": {
   "display_name": "Python 3 (ipykernel)",
   "language": "python",
   "name": "python3"
  },
  "language_info": {
   "codemirror_mode": {
    "name": "ipython",
    "version": 3
   },
   "file_extension": ".py",
   "mimetype": "text/x-python",
   "name": "python",
   "nbconvert_exporter": "python",
   "pygments_lexer": "ipython3",
   "version": "3.12.4"
  }
 },
 "nbformat": 4,
 "nbformat_minor": 5
}
