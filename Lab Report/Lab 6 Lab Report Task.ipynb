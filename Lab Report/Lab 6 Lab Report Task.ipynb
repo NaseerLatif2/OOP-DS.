{
 "cells": [
  {
   "cell_type": "markdown",
   "id": "88c3c6e2-fa27-4967-9dc4-7764107fa929",
   "metadata": {},
   "source": [
    "## <p style=\"color:black ; font-size:37px; font-family: Algerian ; text-align:center;\">Lab Title: EE:271 \"OOP & Data Structure"
   ]
  },
  {
   "cell_type": "markdown",
   "id": "20f502b2-3287-4c40-9121-f74045a38321",
   "metadata": {},
   "source": [
    "\n",
    "## <p style=\"color:black ; font-size:37px; font-family: Algerian ; text-align:center;\">Lab 6: Classes 3 @property and @property.setter, @property, @ staticmethod and @classmethod"
   ]
  },
  {
   "cell_type": "markdown",
   "id": "cb1b26ac-b6bc-4aee-90bd-6f09af21ba20",
   "metadata": {},
   "source": [
    "## <p style=\"color:black ; font-size:37px; font-family: Algerian ; text-align:center;\">LAB REPORT TASKS"
   ]
  },
  {
   "cell_type": "code",
   "execution_count": 25,
   "id": "03609a69-e630-423f-84e8-48424fd0dd69",
   "metadata": {},
   "outputs": [],
   "source": [
    "import math\n",
    "\n",
    "class Circle:\n",
    "    def __init__(self, radius: float = 1.0) -> None:\n",
    "        self._radius = radius\n",
    "\n",
    "    @property\n",
    "    def radius(self) -> float:\n",
    "        return self._radius\n",
    "\n",
    "    @radius.setter\n",
    "    def radius(self, value: float) -> None:\n",
    "        self._radius = value\n",
    "\n",
    "    @property\n",
    "    def diameter(self) -> float:\n",
    "        return self.radius * 2\n",
    "\n",
    "    @property\n",
    "    def area(self) -> float:\n",
    "        return math.pi * (self.radius ** 2)\n",
    "\n",
    "    @property\n",
    "    def circumference(self) -> float:\n",
    "        return 2 * math.pi * self.radius\n",
    "\n",
    "    def volume_of_cylinder(self, height: float) -> float:\n",
    "        return self.area * height\n",
    "\n",
    "    def __repr__(self) -> str:\n",
    "        return f\"Circle(radius={self.radius})\"\n",
    "\n",
    "    def __str__(self) -> str:\n",
    "        return f\"Circle with radius {self.radius}\"\n",
    "\n",
    "    @staticmethod\n",
    "    def unit_circle() -> 'Circle':\n",
    "        return Circle(1)\n",
    "\n",
    "    @classmethod\n",
    "    def from_diameter(cls, diameter: float) -> 'Circle':\n",
    "        return cls(diameter / 2)"
   ]
  },
  {
   "cell_type": "code",
   "execution_count": 27,
   "id": "29113701-5ae7-4c3d-bbe3-2c8f73a2e796",
   "metadata": {},
   "outputs": [],
   "source": [
    "inst_1 = Circle(2)  \n",
    "inst_2 = Circle(8)  \n"
   ]
  },
  {
   "cell_type": "code",
   "execution_count": 29,
   "id": "e1f33c80-59d7-4762-9d4f-8de042d72b4a",
   "metadata": {},
   "outputs": [
    {
     "name": "stdout",
     "output_type": "stream",
     "text": [
      "Circle with radius 2\n",
      "Circle with radius 8\n"
     ]
    }
   ],
   "source": [
    "print(inst_1)\n",
    "print(inst_2)"
   ]
  },
  {
   "cell_type": "code",
   "execution_count": 31,
   "id": "69d70a63-55af-4f3b-b455-2bc3c4ebd68d",
   "metadata": {},
   "outputs": [
    {
     "name": "stdout",
     "output_type": "stream",
     "text": [
      "Radius of inst_1: 2\n",
      "Diameter of inst_1: 4\n",
      "Area of inst_1: 12.566370614359172\n",
      "Circumference of inst_1: 12.566370614359172\n"
     ]
    }
   ],
   "source": [
    "print(f\"Radius of inst_1: {inst_1.radius}\")\n",
    "print(f\"Diameter of inst_1: {inst_1.diameter}\")\n",
    "print(f\"Area of inst_1: {inst_1.area}\")\n",
    "print(f\"Circumference of inst_1: {inst_1.circumference}\")\n"
   ]
  },
  {
   "cell_type": "code",
   "execution_count": 33,
   "id": "6f3dab51-e0ac-4c97-a367-88ab80e14722",
   "metadata": {},
   "outputs": [
    {
     "name": "stdout",
     "output_type": "stream",
     "text": [
      "Circle with radius 1\n",
      "Circle with radius 6.0\n"
     ]
    }
   ],
   "source": [
    "unit_circle = Circle.unit_circle()\n",
    "print(unit_circle)\n",
    "\n",
    "circle_from_diameter = Circle.from_diameter(12)\n",
    "print(circle_from_diameter)"
   ]
  },
  {
   "cell_type": "code",
   "execution_count": 35,
   "id": "dfdeb1c7-377a-46ba-8893-6fed147c4f8e",
   "metadata": {},
   "outputs": [
    {
     "name": "stdout",
     "output_type": "stream",
     "text": [
      "Volume of cylinder with radius 2 and height 8: 100.53096491487338\n"
     ]
    }
   ],
   "source": [
    "height = 8\n",
    "volume = inst_1.volume_of_cylinder(height)\n",
    "print(f\"Volume of cylinder with radius {inst_1.radius} and height {height}: {volume}\")\n"
   ]
  },
  {
   "cell_type": "code",
   "execution_count": 37,
   "id": "55bff79b-c8c2-4af8-a0d4-994f8e11ebb2",
   "metadata": {},
   "outputs": [
    {
     "name": "stdout",
     "output_type": "stream",
     "text": [
      "\n",
      "Class __dict__:\n",
      "{'__module__': '__main__', '__init__': <function Circle.__init__ at 0x00000237A063C900>, 'radius': <property object at 0x000002379F01FDD0>, 'diameter': <property object at 0x000002379F01FEC0>, 'area': <property object at 0x000002379F01FE70>, 'circumference': <property object at 0x000002379F01FC90>, 'volume_of_cylinder': <function Circle.volume_of_cylinder at 0x00000237A063C720>, '__repr__': <function Circle.__repr__ at 0x00000237A063CAE0>, '__str__': <function Circle.__str__ at 0x00000237A063CB80>, 'unit_circle': <staticmethod(<function Circle.unit_circle at 0x00000237A063CC20>)>, 'from_diameter': <classmethod(<function Circle.from_diameter at 0x00000237A063CCC0>)>, '__dict__': <attribute '__dict__' of 'Circle' objects>, '__weakref__': <attribute '__weakref__' of 'Circle' objects>, '__doc__': None}\n"
     ]
    }
   ],
   "source": [
    "print(\"\\nClass __dict__:\")\n",
    "print(Circle.__dict__)"
   ]
  },
  {
   "cell_type": "code",
   "execution_count": 39,
   "id": "3fa09c53-4716-43c9-bdf7-c79b3f01d7b7",
   "metadata": {},
   "outputs": [
    {
     "name": "stdout",
     "output_type": "stream",
     "text": [
      "\n",
      "Vars for Circle class:\n",
      "{'__module__': '__main__', '__init__': <function Circle.__init__ at 0x00000237A063C900>, 'radius': <property object at 0x000002379F01FDD0>, 'diameter': <property object at 0x000002379F01FEC0>, 'area': <property object at 0x000002379F01FE70>, 'circumference': <property object at 0x000002379F01FC90>, 'volume_of_cylinder': <function Circle.volume_of_cylinder at 0x00000237A063C720>, '__repr__': <function Circle.__repr__ at 0x00000237A063CAE0>, '__str__': <function Circle.__str__ at 0x00000237A063CB80>, 'unit_circle': <staticmethod(<function Circle.unit_circle at 0x00000237A063CC20>)>, 'from_diameter': <classmethod(<function Circle.from_diameter at 0x00000237A063CCC0>)>, '__dict__': <attribute '__dict__' of 'Circle' objects>, '__weakref__': <attribute '__weakref__' of 'Circle' objects>, '__doc__': None}\n"
     ]
    }
   ],
   "source": [
    "print(\"\\nVars for Circle class:\")\n",
    "print(vars(Circle))"
   ]
  },
  {
   "cell_type": "code",
   "execution_count": 41,
   "id": "85b7c412-95bc-4fe3-8bc4-c34c814c4c93",
   "metadata": {},
   "outputs": [
    {
     "name": "stdout",
     "output_type": "stream",
     "text": [
      "\n",
      "Instance __dict__ for inst_1:\n",
      "{'_radius': 2}\n"
     ]
    }
   ],
   "source": [
    "print(\"\\nInstance __dict__ for inst_1:\")\n",
    "print(vars(inst_1))"
   ]
  },
  {
   "cell_type": "code",
   "execution_count": 43,
   "id": "953f837c-6e4e-4300-aa3d-5850e531974f",
   "metadata": {},
   "outputs": [
    {
     "name": "stdout",
     "output_type": "stream",
     "text": [
      "\n",
      "Help on Circle class:\n",
      "Help on class Circle in module __main__:\n",
      "\n",
      "class Circle(builtins.object)\n",
      " |  Circle(radius: float = 1.0) -> None\n",
      " |\n",
      " |  Methods defined here:\n",
      " |\n",
      " |  __init__(self, radius: float = 1.0) -> None\n",
      " |      Initialize self.  See help(type(self)) for accurate signature.\n",
      " |\n",
      " |  __repr__(self) -> str\n",
      " |      Return repr(self).\n",
      " |\n",
      " |  __str__(self) -> str\n",
      " |      Return str(self).\n",
      " |\n",
      " |  volume_of_cylinder(self, height: float) -> float\n",
      " |\n",
      " |  ----------------------------------------------------------------------\n",
      " |  Class methods defined here:\n",
      " |\n",
      " |  from_diameter(diameter: float) -> 'Circle'\n",
      " |\n",
      " |  ----------------------------------------------------------------------\n",
      " |  Static methods defined here:\n",
      " |\n",
      " |  unit_circle() -> 'Circle'\n",
      " |\n",
      " |  ----------------------------------------------------------------------\n",
      " |  Readonly properties defined here:\n",
      " |\n",
      " |  area\n",
      " |\n",
      " |  circumference\n",
      " |\n",
      " |  diameter\n",
      " |\n",
      " |  ----------------------------------------------------------------------\n",
      " |  Data descriptors defined here:\n",
      " |\n",
      " |  __dict__\n",
      " |      dictionary for instance variables\n",
      " |\n",
      " |  __weakref__\n",
      " |      list of weak references to the object\n",
      " |\n",
      " |  radius\n",
      "\n"
     ]
    }
   ],
   "source": [
    "print(\"\\nHelp on Circle class:\")\n",
    "help(Circle)"
   ]
  },
  {
   "cell_type": "code",
   "execution_count": 45,
   "id": "6d6a6b66-ad09-45aa-a5a8-a3658c12c3ef",
   "metadata": {},
   "outputs": [
    {
     "name": "stdout",
     "output_type": "stream",
     "text": [
      "\n",
      "Class Docstring:\n",
      "None\n",
      "\n",
      "Methods and Their Docstrings:\n",
      "\n",
      "__init__:\n",
      "Docstring: None\n",
      "Annotations: {'radius': <class 'float'>, 'return': None}\n",
      "\n",
      "volume_of_cylinder:\n",
      "Docstring: None\n",
      "Annotations: {'height': <class 'float'>, 'return': <class 'float'>}\n",
      "\n",
      "diameter:\n",
      "Docstring: None\n",
      "Annotations: {'return': <class 'float'>}\n",
      "\n",
      "area:\n",
      "Docstring: None\n",
      "Annotations: {'return': <class 'float'>}\n",
      "\n",
      "circumference:\n",
      "Docstring: None\n",
      "Annotations: {'return': <class 'float'>}\n",
      "\n",
      "__repr__:\n",
      "Docstring: None\n",
      "Annotations: {'return': <class 'str'>}\n",
      "\n",
      "__str__:\n",
      "Docstring: None\n",
      "Annotations: {'return': <class 'str'>}\n",
      "\n",
      "unit_circle:\n",
      "Docstring: None\n",
      "Annotations: {'return': 'Circle'}\n",
      "\n",
      "from_diameter:\n",
      "Docstring: None\n",
      "Annotations: {'diameter': <class 'float'>, 'return': 'Circle'}\n"
     ]
    }
   ],
   "source": [
    "print(\"\\nClass Docstring:\")\n",
    "print(Circle.__doc__)\n",
    "\n",
    "print(\"\\nMethods and Their Docstrings:\")\n",
    "for method in [\n",
    "    Circle.__init__,\n",
    "    Circle.volume_of_cylinder,\n",
    "    Circle.diameter.fget,\n",
    "    Circle.area.fget,\n",
    "    Circle.circumference.fget,\n",
    "    Circle.__repr__,\n",
    "    Circle.__str__,\n",
    "    Circle.unit_circle,\n",
    "    Circle.from_diameter,\n",
    "]:\n",
    "    print(f\"\\n{method.__name__}:\")\n",
    "    print(f\"Docstring: {method.__doc__}\")\n",
    "    print(f\"Annotations: {method.__annotations__}\")"
   ]
  },
  {
   "cell_type": "code",
   "execution_count": 47,
   "id": "6f8c497b-eef5-4fee-83ae-5df38fceab2d",
   "metadata": {},
   "outputs": [
    {
     "name": "stdout",
     "output_type": "stream",
     "text": [
      "\n",
      "Default Circle instance:\n",
      "Circle with radius 1.0\n"
     ]
    }
   ],
   "source": [
    "inst_default = Circle()\n",
    "print(\"\\nDefault Circle instance:\")\n",
    "print(inst_default)"
   ]
  }
 ],
 "metadata": {
  "kernelspec": {
   "display_name": "Python 3 (ipykernel)",
   "language": "python",
   "name": "python3"
  },
  "language_info": {
   "codemirror_mode": {
    "name": "ipython",
    "version": 3
   },
   "file_extension": ".py",
   "mimetype": "text/x-python",
   "name": "python",
   "nbconvert_exporter": "python",
   "pygments_lexer": "ipython3",
   "version": "3.12.4"
  }
 },
 "nbformat": 4,
 "nbformat_minor": 5
}
