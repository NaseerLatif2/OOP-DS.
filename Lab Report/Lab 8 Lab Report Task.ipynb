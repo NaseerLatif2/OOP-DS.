{
 "cells": [
  {
   "cell_type": "markdown",
   "id": "90c22bc4-bf50-4992-b679-e578dad4cd59",
   "metadata": {},
   "source": [
    "<p style=\"color:blue ; font-size:27px; font-family: Arial Black; text-align:left;\">Lab Title: EE-271 “OOP & Data Structures Lab"
   ]
  },
  {
   "cell_type": "markdown",
   "id": "512578e9-334f-4aa0-8842-0e1c428b2aaf",
   "metadata": {},
   "source": [
    "<p style=\"color:red ; font-size:27px; font-family: Arial Black; text-align:left;\">LAB 8"
   ]
  },
  {
   "cell_type": "markdown",
   "id": "7544214d-a8a3-48c7-a8a6-886f9348c533",
   "metadata": {},
   "source": [
    "<p style=\"color:green ; font-size:27px; font-family: Arial Black; text-align:left;\">Lab Report task:"
   ]
  },
  {
   "cell_type": "code",
   "execution_count": 11,
   "id": "99049488-f40e-42db-85f1-405990cb4901",
   "metadata": {},
   "outputs": [],
   "source": [
    "# Base Employee Class\n",
    "class Employee:\n",
    "    def __init__(self, emp_id, name):\n",
    "        self.emp_id = emp_id\n",
    "        self.name = name\n",
    "    \n",
    "    def calculate_payroll(self):\n",
    "        raise NotImplementedError(\"This method should be overridden in the subclass.\")\n",
    "\n",
    "    def work(self, hours):\n",
    "        raise NotImplementedError(\"This method should be overridden in the subclass.\")\n",
    "\n",
    "# SalaryEmployee Class (inherits from Employee)\n",
    "class SalaryEmployee(Employee):\n",
    "    def __init__(self, emp_id, name, weekly_salary):\n",
    "        super().__init__(emp_id, name)\n",
    "        self.weekly_salary = weekly_salary\n",
    "    \n",
    "    def calculate_payroll(self):\n",
    "        return self.weekly_salary\n",
    "    \n",
    "    def work(self, hours):\n",
    "        print(f\"{self.name} worked for {hours} hours (Salary-based).\")\n",
    "\n",
    "# Manager Class (inherits from SalaryEmployee)\n",
    "class Manager(SalaryEmployee):\n",
    "    def __init__(self, emp_id, name, weekly_salary):\n",
    "        super().__init__(emp_id, name, weekly_salary)\n",
    "    \n",
    "    def work(self, hours):\n",
    "        print(f\"Manager {self.name} worked for {hours} hours, delegating tasks and overseeing operations.\")\n",
    "\n",
    "# Secretary Class (inherits from SalaryEmployee)\n",
    "class Secretary(SalaryEmployee):\n",
    "    def __init__(self, emp_id, name, weekly_salary):\n",
    "        super().__init__(emp_id, name, weekly_salary)\n",
    "    \n",
    "    def work(self, hours):\n",
    "        print(f\"Secretary {self.name} worked for {hours} hours, handling paperwork and administration.\")\n",
    "\n",
    "# SalesPerson Class (inherits from SalaryEmployee)\n",
    "class SalesPerson(SalaryEmployee):\n",
    "    def __init__(self, emp_id, name, weekly_salary, commission_rate):\n",
    "        super().__init__(emp_id, name, weekly_salary)\n",
    "        self.commission_rate = commission_rate  # Commission rate as a percentage\n",
    "        self.sales_made = 0  # Track the sales made by the employee\n",
    "\n",
    "    def work(self, hours, sales_made):\n",
    "        self.sales_made += sales_made\n",
    "        commission = sales_made * self.commission_rate\n",
    "        total_pay = self.weekly_salary + commission\n",
    "        print(f\"SalesPerson {self.name} worked for {hours} hours and made ${sales_made} in sales. \"\n",
    "              f\"Commission earned: ${commission}. Total Pay: ${total_pay:.2f}\")\n",
    "\n",
    "# HourlyEmployee Class (inherits from Employee)\n",
    "class factoryworker(Employee):\n",
    "    def __init__(self, emp_id, name, hourly_rate, hours_worked):\n",
    "        super().__init__(emp_id, name)\n",
    "        self.hourly_rate = hourly_rate\n",
    "        self.hours_worked = hours_worked\n",
    "    \n",
    "    def calculate_payroll(self):\n",
    "        return self.hourly_rate * self.hours_worked\n",
    "    \n",
    "    def work(self, hours):\n",
    "        self.hours_worked += hours\n",
    "        total_pay = self.calculate_payroll()\n",
    "        print(f\"Factory Worker {self.name} worked for {hours} hours. Total Pay: ${total_pay:.2f}\")\n",
    "\n",
    "# ProductivitySystem Class\n",
    "class ProductivitySystem:\n",
    "    def calculate_productivity(self, employees):\n",
    "        for employee in employees:\n",
    "            print(f\"Employee: {employee.name}\")\n",
    "            if isinstance(employee, SalesPerson):\n",
    "                employee.work(40, 2000)\n",
    "            else:\n",
    "                employee.work(40)\n",
    "            print(\"=\" * 40)"
   ]
  },
  {
   "cell_type": "code",
   "execution_count": 13,
   "id": "bc48cfa7-0e95-4ebf-ab06-62f29261f4a8",
   "metadata": {},
   "outputs": [],
   "source": [
    "# Create instances of different types of employees\n",
    "manager1 = Manager(1, \"Naseer\", 12000)\n",
    "secretary1 = Secretary(2, \"ishaq\", 10000)\n",
    "salesperson1 = SalesPerson(3, \"mansoor\", 8000, 0.1)  \n",
    "factoryworker1 = factoryworker(4, \"salman\", 355, 40)  \n",
    "\n",
    "# Create a list of employees\n",
    "employees = [\n",
    "    manager1, secretary1, salesperson1, factoryworker1\n",
    "]"
   ]
  },
  {
   "cell_type": "code",
   "execution_count": 15,
   "id": "d81449ac-26ff-409a-9cda-927f991b48af",
   "metadata": {},
   "outputs": [
    {
     "name": "stdout",
     "output_type": "stream",
     "text": [
      "Employee: Naseer\n",
      "Manager Naseer worked for 40 hours, delegating tasks and overseeing operations.\n",
      "========================================\n",
      "Employee: ishaq\n",
      "Secretary ishaq worked for 40 hours, handling paperwork and administration.\n",
      "========================================\n",
      "Employee: mansoor\n",
      "SalesPerson mansoor worked for 40 hours and made $2000 in sales. Commission earned: $200.0. Total Pay: $8200.00\n",
      "========================================\n",
      "Employee: salman\n",
      "Factory Worker salman worked for 40 hours. Total Pay: $28400.00\n",
      "========================================\n"
     ]
    }
   ],
   "source": [
    "# Create a ProductivitySystem instance and calculate productivity for all employees\n",
    "productivity_system = ProductivitySystem()\n",
    "productivity_system.calculate_productivity(employees)"
   ]
  },
  {
   "cell_type": "code",
   "execution_count": null,
   "id": "d2082d96-11b2-454d-bf8f-f6ad0fd6c81d",
   "metadata": {},
   "outputs": [],
   "source": []
  }
 ],
 "metadata": {
  "kernelspec": {
   "display_name": "Python 3 (ipykernel)",
   "language": "python",
   "name": "python3"
  },
  "language_info": {
   "codemirror_mode": {
    "name": "ipython",
    "version": 3
   },
   "file_extension": ".py",
   "mimetype": "text/x-python",
   "name": "python",
   "nbconvert_exporter": "python",
   "pygments_lexer": "ipython3",
   "version": "3.12.4"
  }
 },
 "nbformat": 4,
 "nbformat_minor": 5
}
